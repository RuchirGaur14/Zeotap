{
 "cells": [
  {
   "cell_type": "code",
   "execution_count": 1,
   "id": "fd7d1528-ed22-4183-9c79-2e8a1055280c",
   "metadata": {},
   "outputs": [
    {
     "name": "stdout",
     "output_type": "stream",
     "text": [
      "Lookalike.csv generated successfully!\n"
     ]
    }
   ],
   "source": [
    "import pandas as pd\n",
    "from sklearn.metrics.pairwise import cosine_similarity\n",
    "from sklearn.preprocessing import OneHotEncoder, MinMaxScaler\n",
    "import numpy as np\n",
    "\n",
    "# Load datasets\n",
    "customers_df = pd.read_csv(\"Customers.csv\")\n",
    "products_df = pd.read_csv(\"Products.csv\")\n",
    "transactions_df = pd.read_csv(\"Transactions.csv\")\n",
    "\n",
    "# Merge datasets\n",
    "customer_transactions = transactions_df.merge(customers_df, on=\"CustomerID\")\n",
    "merged_data = customer_transactions.merge(products_df, on=\"ProductID\")\n",
    "\n",
    "# Rename the correct Price column\n",
    "merged_data = merged_data.rename(columns={\"Price_y\": \"Price\"})\n",
    "\n",
    "# Create customer profiles\n",
    "customer_profiles = merged_data.groupby(\"CustomerID\").agg({\n",
    "    \"TotalValue\": \"sum\",  # Total spending\n",
    "    \"Quantity\": \"sum\",    # Total quantity purchased\n",
    "    \"Price\": \"mean\",      # Average price of products\n",
    "    \"Region\": \"first\",    # Customer's region\n",
    "    \"Category\": lambda x: x.mode()[0]  # Most frequent category\n",
    "}).reset_index()\n",
    "\n",
    "# Encode categorical features (Region and Category)\n",
    "encoder = OneHotEncoder()\n",
    "encoded_features = encoder.fit_transform(customer_profiles[[\"Region\", \"Category\"]]).toarray()\n",
    "\n",
    "# Normalize numerical features\n",
    "numerical_features = customer_profiles[[\"TotalValue\", \"Quantity\", \"Price\"]].values\n",
    "scaler = MinMaxScaler()\n",
    "scaled_numerical = scaler.fit_transform(numerical_features)\n",
    "\n",
    "# Combine numerical and encoded features\n",
    "customer_features = np.hstack((scaled_numerical, encoded_features))\n",
    "\n",
    "# Compute cosine similarity for all customers\n",
    "similarity_matrix = cosine_similarity(customer_features)\n",
    "\n",
    "# Extract top 3 similar customers for each target customer (C0001-C0020)\n",
    "target_customers = customer_profiles[\"CustomerID\"][:20].values\n",
    "lookalike_data = {}\n",
    "\n",
    "for i, target_customer in enumerate(target_customers):\n",
    "    # Get similarity scores for the target customer\n",
    "    customer_idx = np.where(customer_profiles[\"CustomerID\"] == target_customer)[0][0]\n",
    "    similarities = similarity_matrix[customer_idx]\n",
    "    \n",
    "    # Find top 3 similar customers (excluding self)\n",
    "    similar_indices = similarities.argsort()[-4:-1][::-1]  # Exclude self and sort by similarity\n",
    "    similar_customers = customer_profiles.iloc[similar_indices][\"CustomerID\"].values\n",
    "    similar_scores = similarities[similar_indices]\n",
    "    \n",
    "    # Save results in the lookalike map\n",
    "    lookalike_data[target_customer] = list(zip(similar_customers, similar_scores))\n",
    "\n",
    "# Convert lookalike data into a DataFrame and save as CSV\n",
    "lookalike_df = pd.DataFrame([{\"cust_id\": k, \"lookalikes\": v} for k, v in lookalike_data.items()])\n",
    "lookalike_df.to_csv(\"Lookalike.csv\", index=False)\n",
    "\n",
    "print(\"Lookalike.csv generated successfully!\")\n"
   ]
  },
  {
   "cell_type": "code",
   "execution_count": null,
   "id": "351566ab-7ac7-41b7-9710-3edda4ed938b",
   "metadata": {},
   "outputs": [],
   "source": []
  }
 ],
 "metadata": {
  "kernelspec": {
   "display_name": "Python 3 (ipykernel)",
   "language": "python",
   "name": "python3"
  },
  "language_info": {
   "codemirror_mode": {
    "name": "ipython",
    "version": 3
   },
   "file_extension": ".py",
   "mimetype": "text/x-python",
   "name": "python",
   "nbconvert_exporter": "python",
   "pygments_lexer": "ipython3",
   "version": "3.11.7"
  }
 },
 "nbformat": 4,
 "nbformat_minor": 5
}
